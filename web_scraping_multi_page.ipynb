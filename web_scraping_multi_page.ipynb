{
 "cells": [
  {
   "cell_type": "markdown",
   "id": "d2aab625-8d9f-451c-ac7d-9535c3360fb4",
   "metadata": {},
   "source": [
    "# Web Scraping: Lab 1 & 2"
   ]
  },
  {
   "cell_type": "markdown",
   "id": "b64f6bc7-fe6a-419a-bf73-e7a31626aec8",
   "metadata": {},
   "source": [
    "**Table of contents**\n",
    "1. [Billboard.](#1-|-Lab-1:-Billboard)\n",
    "2. [Deezer.](#2-|-Lab-2:-Deezer)\n",
    "3. [Earthquakes.](#3-|-Lab-2:-Earthquakes)"
   ]
  },
  {
   "cell_type": "markdown",
   "id": "46175ca0-fcbb-43f4-93ae-25517bc5768e",
   "metadata": {},
   "source": [
    "> Links not working even though I did same as in previous notebook...grrrr"
   ]
  },
  {
   "cell_type": "markdown",
   "id": "e351d7c2-d37a-4804-bc33-a1126b068c92",
   "metadata": {
    "tags": []
   },
   "source": [
    "# 1 | Lab 1: Billboard"
   ]
  },
  {
   "cell_type": "code",
   "execution_count": 1,
   "id": "87249c49-28d2-40d8-9cb1-10c616280c60",
   "metadata": {},
   "outputs": [],
   "source": [
    "from bs4 import BeautifulSoup\n",
    "import requests\n",
    "import pandas as pd"
   ]
  },
  {
   "cell_type": "code",
   "execution_count": 2,
   "id": "8985b2f6-fe51-46ad-b966-e598bc3109d2",
   "metadata": {},
   "outputs": [
    {
     "data": {
      "text/plain": [
       "200"
      ]
     },
     "execution_count": 2,
     "metadata": {},
     "output_type": "execute_result"
    }
   ],
   "source": [
    "url = \"https://www.billboard.com/charts/hot-100/\"\n",
    "response = requests.get(url)\n",
    "response.status_code # 200 status code means OK!"
   ]
  },
  {
   "cell_type": "code",
   "execution_count": 3,
   "id": "61370624-e6e3-4039-b8b8-1ed580243834",
   "metadata": {},
   "outputs": [],
   "source": [
    "#post-1479786 > div.pmc-paywall > div > div > div > div.chart-results-list.\\/\\/.lrv-u-padding-t-150.lrv-u-padding-t-050\\@mobile-max > div:nth-child(2) > ul > li.lrv-u-width-100p > ul > li.o-chart-results-list__item.\\/\\/.lrv-u-flex-grow-1.lrv-u-flex.lrv-u-flex-direction-column.lrv-u-justify-content-center.lrv-u-border-b-1.u-border-b-0\\@mobile-max.lrv-u-border-color-grey-light.lrv-u-padding-l-1\\@mobile-max"
   ]
  },
  {
   "cell_type": "code",
   "execution_count": 4,
   "id": "616e6b41-65a0-46e2-be26-2fb6c30ad1c9",
   "metadata": {},
   "outputs": [],
   "source": [
    "soup = BeautifulSoup(response.content, \"html.parser\")"
   ]
  },
  {
   "cell_type": "code",
   "execution_count": 5,
   "id": "42c58fdb-c60e-4630-8c91-1d58a249d9db",
   "metadata": {},
   "outputs": [
    {
     "data": {
      "text/plain": [
       "[<li class=\"o-chart-results-list__item // lrv-u-flex-grow-1 lrv-u-flex lrv-u-flex-direction-column lrv-u-justify-content-center lrv-u-border-b-1 u-border-b-0@mobile-max lrv-u-border-color-grey-light lrv-u-padding-l-1@mobile-max\">\n",
       " <h3 class=\"c-title a-no-trucate a-font-primary-bold-s u-letter-spacing-0021 u-font-size-23@tablet lrv-u-font-size-16 u-line-height-125 u-line-height-normal@mobile-max a-truncate-ellipsis u-max-width-245 u-max-width-230@tablet-only u-letter-spacing-0028@tablet\" id=\"title-of-a-story\">\n",
       " Easy On Me\n",
       " </h3>\n",
       " <span class=\"c-label a-no-trucate a-font-primary-s lrv-u-font-size-14@mobile-max u-line-height-normal@mobile-max u-letter-spacing-0021 lrv-u-display-block a-truncate-ellipsis-2line u-max-width-330 u-max-width-230@tablet-only u-font-size-20@tablet\">\n",
       " Adele\n",
       " </span>\n",
       " </li>]"
      ]
     },
     "execution_count": 5,
     "metadata": {},
     "output_type": "execute_result"
    }
   ],
   "source": [
    "# searching...\n",
    "soup.select(\"#post-1479786 > div.pmc-paywall > div > div > div > div.chart-results-list.\\/\\/.lrv-u-padding-t-150.lrv-u-padding-t-050\\@mobile-max > div:nth-child(2) > ul > li.lrv-u-width-100p > ul > li.o-chart-results-list__item.\\/\\/.lrv-u-flex-grow-1.lrv-u-flex.lrv-u-flex-direction-column.lrv-u-justify-content-center.lrv-u-border-b-1.u-border-b-0\\@mobile-max.lrv-u-border-color-grey-light.lrv-u-padding-l-1\\@mobile-max\")"
   ]
  },
  {
   "cell_type": "code",
   "execution_count": 6,
   "id": "926f90d4-eb5a-4d1a-83b4-3354d305bea1",
   "metadata": {},
   "outputs": [
    {
     "data": {
      "text/plain": [
       "[<span class=\"c-label a-no-trucate a-font-primary-s lrv-u-font-size-14@mobile-max u-line-height-normal@mobile-max u-letter-spacing-0021 lrv-u-display-block a-truncate-ellipsis-2line u-max-width-330 u-max-width-230@tablet-only u-font-size-20@tablet\">\n",
       " Adele\n",
       " </span>]"
      ]
     },
     "execution_count": 6,
     "metadata": {},
     "output_type": "execute_result"
    }
   ],
   "source": [
    "# searching...\n",
    "soup.select(\"#post-1479786 > div.pmc-paywall > div > div > div > div.chart-results-list.\\/\\/.lrv-u-padding-t-150.lrv-u-padding-t-050\\@mobile-max > div:nth-child(2) > ul > li.lrv-u-width-100p > ul > li.o-chart-results-list__item.\\/\\/.lrv-u-flex-grow-1.lrv-u-flex.lrv-u-flex-direction-column.lrv-u-justify-content-center.lrv-u-border-b-1.u-border-b-0\\@mobile-max.lrv-u-border-color-grey-light.lrv-u-padding-l-1\\@mobile-max span\")"
   ]
  },
  {
   "cell_type": "code",
   "execution_count": 7,
   "id": "bda0c822-7ada-4d0f-a752-ec09dcb788a7",
   "metadata": {},
   "outputs": [],
   "source": [
    "# get our song titles\n",
    "song_titles = []\n",
    "for crouton in soup.select(\"li.lrv-u-width-100p h3\"):\n",
    "    song_titles.append(crouton.get_text())"
   ]
  },
  {
   "cell_type": "code",
   "execution_count": 8,
   "id": "1429b13a-bcb6-4b4a-a849-bc583d3e4412",
   "metadata": {},
   "outputs": [],
   "source": [
    "# get artist and other data\n",
    "span = []\n",
    "for crouton in soup.select(\"li.lrv-u-width-100p span\"):\n",
    "    span.append(crouton.get_text())"
   ]
  },
  {
   "cell_type": "code",
   "execution_count": 9,
   "id": "0810ddf4-a8c7-42d2-90ae-cb1282fce4d2",
   "metadata": {
    "tags": []
   },
   "outputs": [
    {
     "data": {
      "text/plain": [
       "700"
      ]
     },
     "execution_count": 9,
     "metadata": {},
     "output_type": "execute_result"
    }
   ],
   "source": [
    "len(span)"
   ]
  },
  {
   "cell_type": "code",
   "execution_count": 10,
   "id": "380d3c9d-43a7-4cc7-9e53-97407647c35a",
   "metadata": {},
   "outputs": [],
   "source": [
    "# filter the artist and other data\n",
    "artist_x = []\n",
    "last_week_pos_x = []\n",
    "peak_pos_x = []\n",
    "weeks_on_chart_x = []\n",
    "\n",
    "i = 0\n",
    "for i in range(len(span)):\n",
    "    if i % 7 == 0:\n",
    "        artist_x.append(span[i])\n",
    "    elif i % 7 == 1:\n",
    "        last_week_pos_x.append(span[i])\n",
    "    elif i % 7 == 2:\n",
    "        peak_pos_x.append(span[i])\n",
    "    elif i % 7 == 3:\n",
    "        weeks_on_chart_x.append(span[i])"
   ]
  },
  {
   "cell_type": "code",
   "execution_count": 11,
   "id": "36b5306e-5159-4512-826f-da40e83173a8",
   "metadata": {},
   "outputs": [],
   "source": [
    "# clean the /n from our fields\n",
    "songs = []\n",
    "artist = []\n",
    "last_week_pos = []\n",
    "peak_pos = []\n",
    "weeks_on_chart = []\n",
    "\n",
    "i = 0\n",
    "for i in range(len(song_titles)):\n",
    "    songs.append(song_titles[i].replace('\\n',''))\n",
    "    artist.append(artist_x[i].replace('\\n',''))\n",
    "    last_week_pos.append(last_week_pos_x[i].replace('\\n',''))\n",
    "    peak_pos.append(peak_pos_x[i].replace('\\n',''))\n",
    "    weeks_on_chart.append(weeks_on_chart_x[i].replace('\\n',''))"
   ]
  },
  {
   "cell_type": "code",
   "execution_count": 12,
   "id": "ac09a6f1-84d8-4701-8145-a57ea185dd63",
   "metadata": {},
   "outputs": [],
   "source": [
    "# create dataframe\n",
    "top100 = pd.DataFrame({'song_title':songs,\n",
    "                      'artist':artist,\n",
    "                      'last_week_pos':last_week_pos,\n",
    "                      'peak_pos':peak_pos,\n",
    "                      'weeks_on_chart':weeks_on_chart})"
   ]
  },
  {
   "cell_type": "code",
   "execution_count": 13,
   "id": "ab307276-0d61-4fa1-b7ba-2ae3f66f64fa",
   "metadata": {},
   "outputs": [
    {
     "data": {
      "text/html": [
       "<div>\n",
       "<style scoped>\n",
       "    .dataframe tbody tr th:only-of-type {\n",
       "        vertical-align: middle;\n",
       "    }\n",
       "\n",
       "    .dataframe tbody tr th {\n",
       "        vertical-align: top;\n",
       "    }\n",
       "\n",
       "    .dataframe thead th {\n",
       "        text-align: right;\n",
       "    }\n",
       "</style>\n",
       "<table border=\"1\" class=\"dataframe\">\n",
       "  <thead>\n",
       "    <tr style=\"text-align: right;\">\n",
       "      <th></th>\n",
       "      <th>song_title</th>\n",
       "      <th>artist</th>\n",
       "      <th>last_week_pos</th>\n",
       "      <th>peak_pos</th>\n",
       "      <th>weeks_on_chart</th>\n",
       "    </tr>\n",
       "  </thead>\n",
       "  <tbody>\n",
       "    <tr>\n",
       "      <th>0</th>\n",
       "      <td>Easy On Me</td>\n",
       "      <td>Adele</td>\n",
       "      <td>1</td>\n",
       "      <td>1</td>\n",
       "      <td>5</td>\n",
       "    </tr>\n",
       "    <tr>\n",
       "      <th>1</th>\n",
       "      <td>Stay</td>\n",
       "      <td>The Kid LAROI &amp; Justin Bieber</td>\n",
       "      <td>2</td>\n",
       "      <td>1</td>\n",
       "      <td>18</td>\n",
       "    </tr>\n",
       "    <tr>\n",
       "      <th>2</th>\n",
       "      <td>Industry Baby</td>\n",
       "      <td>Lil Nas X &amp; Jack Harlow</td>\n",
       "      <td>3</td>\n",
       "      <td>1</td>\n",
       "      <td>16</td>\n",
       "    </tr>\n",
       "    <tr>\n",
       "      <th>3</th>\n",
       "      <td>Bad Habits</td>\n",
       "      <td>Ed Sheeran</td>\n",
       "      <td>4</td>\n",
       "      <td>2</td>\n",
       "      <td>20</td>\n",
       "    </tr>\n",
       "    <tr>\n",
       "      <th>4</th>\n",
       "      <td>Shivers</td>\n",
       "      <td>Ed Sheeran</td>\n",
       "      <td>6</td>\n",
       "      <td>5</td>\n",
       "      <td>9</td>\n",
       "    </tr>\n",
       "    <tr>\n",
       "      <th>5</th>\n",
       "      <td>One Right Now</td>\n",
       "      <td>Post Malone &amp; The Weeknd</td>\n",
       "      <td>-</td>\n",
       "      <td>6</td>\n",
       "      <td>1</td>\n",
       "    </tr>\n",
       "    <tr>\n",
       "      <th>6</th>\n",
       "      <td>Fancy Like</td>\n",
       "      <td>Walker Hayes</td>\n",
       "      <td>5</td>\n",
       "      <td>3</td>\n",
       "      <td>21</td>\n",
       "    </tr>\n",
       "    <tr>\n",
       "      <th>7</th>\n",
       "      <td>Smokin Out The Window</td>\n",
       "      <td>Silk Sonic (Bruno Mars &amp; Anderson .Paak)</td>\n",
       "      <td>-</td>\n",
       "      <td>8</td>\n",
       "      <td>1</td>\n",
       "    </tr>\n",
       "    <tr>\n",
       "      <th>8</th>\n",
       "      <td>Need To Know</td>\n",
       "      <td>Doja Cat</td>\n",
       "      <td>8</td>\n",
       "      <td>8</td>\n",
       "      <td>22</td>\n",
       "    </tr>\n",
       "    <tr>\n",
       "      <th>9</th>\n",
       "      <td>Heat Waves</td>\n",
       "      <td>Glass Animals</td>\n",
       "      <td>10</td>\n",
       "      <td>10</td>\n",
       "      <td>43</td>\n",
       "    </tr>\n",
       "    <tr>\n",
       "      <th>10</th>\n",
       "      <td>Escape Plan</td>\n",
       "      <td>Travis Scott</td>\n",
       "      <td>-</td>\n",
       "      <td>11</td>\n",
       "      <td>1</td>\n",
       "    </tr>\n",
       "    <tr>\n",
       "      <th>11</th>\n",
       "      <td>Way 2 Sexy</td>\n",
       "      <td>Drake Featuring Future &amp; Young Thug</td>\n",
       "      <td>7</td>\n",
       "      <td>1</td>\n",
       "      <td>10</td>\n",
       "    </tr>\n",
       "    <tr>\n",
       "      <th>12</th>\n",
       "      <td>No Love</td>\n",
       "      <td>Summer Walker &amp; SZA</td>\n",
       "      <td>-</td>\n",
       "      <td>13</td>\n",
       "      <td>1</td>\n",
       "    </tr>\n",
       "    <tr>\n",
       "      <th>13</th>\n",
       "      <td>Cold Heart (PNAU Remix)</td>\n",
       "      <td>Elton John &amp; Dua Lipa</td>\n",
       "      <td>14</td>\n",
       "      <td>14</td>\n",
       "      <td>10</td>\n",
       "    </tr>\n",
       "    <tr>\n",
       "      <th>14</th>\n",
       "      <td>Good 4 U</td>\n",
       "      <td>Olivia Rodrigo</td>\n",
       "      <td>9</td>\n",
       "      <td>1</td>\n",
       "      <td>26</td>\n",
       "    </tr>\n",
       "    <tr>\n",
       "      <th>15</th>\n",
       "      <td>Essence</td>\n",
       "      <td>Wizkid Featuring Justin Bieber &amp; Tems</td>\n",
       "      <td>12</td>\n",
       "      <td>9</td>\n",
       "      <td>19</td>\n",
       "    </tr>\n",
       "    <tr>\n",
       "      <th>16</th>\n",
       "      <td>Beggin'</td>\n",
       "      <td>Maneskin</td>\n",
       "      <td>13</td>\n",
       "      <td>13</td>\n",
       "      <td>20</td>\n",
       "    </tr>\n",
       "    <tr>\n",
       "      <th>17</th>\n",
       "      <td>Levitating</td>\n",
       "      <td>Dua Lipa</td>\n",
       "      <td>11</td>\n",
       "      <td>2</td>\n",
       "      <td>58</td>\n",
       "    </tr>\n",
       "    <tr>\n",
       "      <th>18</th>\n",
       "      <td>You Right</td>\n",
       "      <td>Doja Cat &amp; The Weeknd</td>\n",
       "      <td>16</td>\n",
       "      <td>11</td>\n",
       "      <td>20</td>\n",
       "    </tr>\n",
       "    <tr>\n",
       "      <th>19</th>\n",
       "      <td>Kiss Me More</td>\n",
       "      <td>Doja Cat Featuring SZA</td>\n",
       "      <td>15</td>\n",
       "      <td>3</td>\n",
       "      <td>31</td>\n",
       "    </tr>\n",
       "  </tbody>\n",
       "</table>\n",
       "</div>"
      ],
      "text/plain": [
       "                 song_title                                    artist  \\\n",
       "0                Easy On Me                                     Adele   \n",
       "1                      Stay             The Kid LAROI & Justin Bieber   \n",
       "2             Industry Baby                   Lil Nas X & Jack Harlow   \n",
       "3                Bad Habits                                Ed Sheeran   \n",
       "4                   Shivers                                Ed Sheeran   \n",
       "5             One Right Now                  Post Malone & The Weeknd   \n",
       "6                Fancy Like                              Walker Hayes   \n",
       "7     Smokin Out The Window  Silk Sonic (Bruno Mars & Anderson .Paak)   \n",
       "8              Need To Know                                  Doja Cat   \n",
       "9                Heat Waves                             Glass Animals   \n",
       "10              Escape Plan                              Travis Scott   \n",
       "11               Way 2 Sexy       Drake Featuring Future & Young Thug   \n",
       "12                  No Love                       Summer Walker & SZA   \n",
       "13  Cold Heart (PNAU Remix)                     Elton John & Dua Lipa   \n",
       "14                 Good 4 U                            Olivia Rodrigo   \n",
       "15                  Essence     Wizkid Featuring Justin Bieber & Tems   \n",
       "16                  Beggin'                                  Maneskin   \n",
       "17               Levitating                                  Dua Lipa   \n",
       "18                You Right                     Doja Cat & The Weeknd   \n",
       "19             Kiss Me More                    Doja Cat Featuring SZA   \n",
       "\n",
       "   last_week_pos peak_pos weeks_on_chart  \n",
       "0              1        1              5  \n",
       "1              2        1             18  \n",
       "2              3        1             16  \n",
       "3              4        2             20  \n",
       "4              6        5              9  \n",
       "5              -        6              1  \n",
       "6              5        3             21  \n",
       "7              -        8              1  \n",
       "8              8        8             22  \n",
       "9             10       10             43  \n",
       "10             -       11              1  \n",
       "11             7        1             10  \n",
       "12             -       13              1  \n",
       "13            14       14             10  \n",
       "14             9        1             26  \n",
       "15            12        9             19  \n",
       "16            13       13             20  \n",
       "17            11        2             58  \n",
       "18            16       11             20  \n",
       "19            15        3             31  "
      ]
     },
     "execution_count": 13,
     "metadata": {},
     "output_type": "execute_result"
    }
   ],
   "source": [
    "# show off dataframe\n",
    "top100.head(20)"
   ]
  },
  {
   "cell_type": "markdown",
   "id": "0ecbdf6a-de7a-417f-b697-f4ed94fb6bb8",
   "metadata": {
    "tags": []
   },
   "source": [
    "# 2 | Lab 2: Deezer"
   ]
  },
  {
   "cell_type": "code",
   "execution_count": 14,
   "id": "b03c7a87-fe2a-4a8b-88e6-11a9ac49f603",
   "metadata": {},
   "outputs": [
    {
     "data": {
      "text/plain": [
       "200"
      ]
     },
     "execution_count": 14,
     "metadata": {},
     "output_type": "execute_result"
    }
   ],
   "source": [
    "url = \"https://www.deezer.com/en/playlist/3155776842\"\n",
    "response = requests.get(url)\n",
    "response.status_code # 200 status code means OK!"
   ]
  },
  {
   "cell_type": "code",
   "execution_count": 15,
   "id": "f7754963-01a0-4de1-ab65-3895239f2c84",
   "metadata": {},
   "outputs": [],
   "source": [
    "soup = BeautifulSoup(response.content, \"html.parser\")"
   ]
  },
  {
   "cell_type": "code",
   "execution_count": 16,
   "id": "e2690200-665a-4746-bb0f-bce179d97568",
   "metadata": {},
   "outputs": [],
   "source": [
    "tracks = []\n",
    "artists = []\n",
    "\n",
    "for i in range(len(soup.select(\"td.track > div > a > span\"))):\n",
    "    tracks.append(soup.select(\"td.track > div > a > span\")[i].get_text())\n",
    "    artists.append(soup.select(\"td.artist > div > a\")[i].get_text())\n"
   ]
  },
  {
   "cell_type": "code",
   "execution_count": null,
   "id": "f99918f3-b62c-48d9-b8e1-baa3801643fb",
   "metadata": {},
   "outputs": [],
   "source": []
  },
  {
   "cell_type": "code",
   "execution_count": 26,
   "id": "cf0705b5-3b5c-4816-bf56-9d14e0401f53",
   "metadata": {},
   "outputs": [
    {
     "data": {
      "text/html": [
       "<div>\n",
       "<style scoped>\n",
       "    .dataframe tbody tr th:only-of-type {\n",
       "        vertical-align: middle;\n",
       "    }\n",
       "\n",
       "    .dataframe tbody tr th {\n",
       "        vertical-align: top;\n",
       "    }\n",
       "\n",
       "    .dataframe thead th {\n",
       "        text-align: right;\n",
       "    }\n",
       "</style>\n",
       "<table border=\"1\" class=\"dataframe\">\n",
       "  <thead>\n",
       "    <tr style=\"text-align: right;\">\n",
       "      <th></th>\n",
       "      <th>track</th>\n",
       "      <th>artist</th>\n",
       "    </tr>\n",
       "  </thead>\n",
       "  <tbody>\n",
       "    <tr>\n",
       "      <th>0</th>\n",
       "      <td>Easy On Me</td>\n",
       "      <td>Adele</td>\n",
       "    </tr>\n",
       "    <tr>\n",
       "      <th>1</th>\n",
       "      <td>INDUSTRY BABY</td>\n",
       "      <td>Lil Nas X</td>\n",
       "    </tr>\n",
       "    <tr>\n",
       "      <th>2</th>\n",
       "      <td>STAY</td>\n",
       "      <td>The Kid Laroi</td>\n",
       "    </tr>\n",
       "    <tr>\n",
       "      <th>3</th>\n",
       "      <td>Bad Habits</td>\n",
       "      <td>Ed Sheeran</td>\n",
       "    </tr>\n",
       "    <tr>\n",
       "      <th>4</th>\n",
       "      <td>Blinding Lights</td>\n",
       "      <td>The Weeknd</td>\n",
       "    </tr>\n",
       "  </tbody>\n",
       "</table>\n",
       "</div>"
      ],
      "text/plain": [
       "              track         artist\n",
       "0       Easy On Me           Adele\n",
       "1    INDUSTRY BABY       Lil Nas X\n",
       "2             STAY   The Kid Laroi\n",
       "3       Bad Habits      Ed Sheeran\n",
       "4  Blinding Lights      The Weeknd"
      ]
     },
     "execution_count": 26,
     "metadata": {},
     "output_type": "execute_result"
    }
   ],
   "source": [
    "deezer_world_top_100 = pd.DataFrame({\"track\":tracks, \"artist\":artists})\n",
    "deezer_world_top_100.head(5)"
   ]
  },
  {
   "cell_type": "code",
   "execution_count": 20,
   "id": "16ba7175-6f40-4922-b029-ca02285de8c4",
   "metadata": {},
   "outputs": [
    {
     "data": {
      "text/plain": [
       "40"
      ]
     },
     "execution_count": 20,
     "metadata": {},
     "output_type": "execute_result"
    }
   ],
   "source": [
    "len(deezer_world_top_100) "
   ]
  },
  {
   "cell_type": "code",
   "execution_count": 24,
   "id": "b9a1b882-59c0-4d83-825a-9a06f06ef854",
   "metadata": {},
   "outputs": [],
   "source": [
    "# it's scrollable on the site and the other items don't appear until they are displayed, i'm guessing this is the reason we don't have the full 100 tracks...\n",
    "# perhaps the javascript generates them and doesn't show all...\n",
    "# "
   ]
  },
  {
   "cell_type": "markdown",
   "id": "5469477b-c1b5-494c-8a84-5ba5e009223d",
   "metadata": {
    "tags": []
   },
   "source": [
    "# 3 | Lab 3: Earthquakes"
   ]
  },
  {
   "cell_type": "code",
   "execution_count": 92,
   "id": "3dcf13c7-bd66-4fdd-ba4d-37729ccc2b91",
   "metadata": {},
   "outputs": [
    {
     "name": "stdout",
     "output_type": "stream",
     "text": [
      "Intereation 0, status:200\n",
      "Intereation 1, status:200\n",
      "Intereation 2, status:200\n",
      "Intereation 3, status:200\n",
      "Intereation 4, status:200\n",
      "Intereation 5, status:200\n",
      "Intereation 6, status:200\n",
      "Intereation 7, status:200\n",
      "Intereation 8, status:200\n",
      "Intereation 9, status:200\n"
     ]
    }
   ],
   "source": [
    "import random\n",
    "from time import sleep\n",
    "\n",
    "soup_serving = []\n",
    "for i in range(10):\n",
    "    url = \"https://www.emsc-csem.org/Earthquake/?view=\" + str(i+1)\n",
    "    response = requests.get(url)\n",
    "    print(\"Intereation \" + str(i) + \", status:\" + str(response.status_code))\n",
    "    \n",
    "    soup = BeautifulSoup(response.content, \"html.parser\")\n",
    "    soup_serving.append(soup.select(\"tbody\"))\n",
    "    \n",
    "    wait_time = random.randint(1,4)\n",
    "    sleep(wait_time)\n",
    "    \n",
    "    "
   ]
  },
  {
   "cell_type": "code",
   "execution_count": 102,
   "id": "1927edad-f794-4146-967c-25382f1a6de1",
   "metadata": {},
   "outputs": [],
   "source": [
    "# soup_serving[0]\n",
    "\n",
    "earthquake_datetime = []\n",
    "latitude_num = []\n",
    "latitude_let = []\n",
    "longitude_num = []\n",
    "longitude_let = []\n",
    "magnitude = []\n",
    "region_name = []\n",
    "\n",
    "for chicken_soup in range(len(soup_serving)):\n",
    "    for i in range(len(soup_serving[chicken_soup][0].select(\"td.tb_region\"))):\n",
    "        earthquake_datetime.append(soup_serving[chicken_soup][0].select(\"b a\")[i].get_text().replace('\\xa0\\xa0\\xa0',' '))\n",
    "\n",
    "        region_name.append(soup_serving[chicken_soup][0].select(\"td.tb_region\")[i].get_text().strip())\n",
    "\n",
    "        latitude_num.append(soup_serving[chicken_soup][0].select(\"td.tabev1\")[i*2].get_text().strip())\n",
    "        longitude_num.append(soup_serving[chicken_soup][0].select(\"td.tabev1\")[i*2+1].get_text().strip())\n",
    "\n",
    "        latitude_let.append(soup_serving[chicken_soup][0].select(\"td.tabev2\")[i*3].get_text().strip())\n",
    "        longitude_let.append(soup_serving[chicken_soup][0].select(\"td.tabev2\")[i*3+1].get_text().strip())\n",
    "        magnitude.append(soup_serving[chicken_soup][0].select(\"td.tabev2\")[i*3+2].get_text().strip())\n"
   ]
  },
  {
   "cell_type": "code",
   "execution_count": 103,
   "id": "d7220972-97c5-4b1a-8992-dc12c6183300",
   "metadata": {},
   "outputs": [],
   "source": [
    "earthquakes = pd.DataFrame({'earthquake_datetime':earthquake_datetime,\n",
    "                            'latitude_num':latitude_num,\n",
    "                            'latitude_let':latitude_let,\n",
    "                            'longitude_num':longitude_num,\n",
    "                            'longitude_let':longitude_let,\n",
    "                            'magnitude':magnitude,\n",
    "                            'region_name':region_name})\n",
    "#deezer_world_top_100 = pd.DataFrame({\"track\":tracks, \"artist\":artists})"
   ]
  },
  {
   "cell_type": "code",
   "execution_count": 104,
   "id": "69a54101-b5ed-484c-ad29-d0c2dd931a27",
   "metadata": {},
   "outputs": [
    {
     "data": {
      "text/html": [
       "<div>\n",
       "<style scoped>\n",
       "    .dataframe tbody tr th:only-of-type {\n",
       "        vertical-align: middle;\n",
       "    }\n",
       "\n",
       "    .dataframe tbody tr th {\n",
       "        vertical-align: top;\n",
       "    }\n",
       "\n",
       "    .dataframe thead th {\n",
       "        text-align: right;\n",
       "    }\n",
       "</style>\n",
       "<table border=\"1\" class=\"dataframe\">\n",
       "  <thead>\n",
       "    <tr style=\"text-align: right;\">\n",
       "      <th></th>\n",
       "      <th>earthquake_datetime</th>\n",
       "      <th>latitude_num</th>\n",
       "      <th>latitude_let</th>\n",
       "      <th>longitude_num</th>\n",
       "      <th>longitude_let</th>\n",
       "      <th>magnitude</th>\n",
       "      <th>region_name</th>\n",
       "    </tr>\n",
       "  </thead>\n",
       "  <tbody>\n",
       "    <tr>\n",
       "      <th>0</th>\n",
       "      <td>2021-11-22 16:07:04.0</td>\n",
       "      <td>0.56</td>\n",
       "      <td>S</td>\n",
       "      <td>123.50</td>\n",
       "      <td>E</td>\n",
       "      <td>4.1</td>\n",
       "      <td>SULAWESI, INDONESIA</td>\n",
       "    </tr>\n",
       "    <tr>\n",
       "      <th>1</th>\n",
       "      <td>2021-11-22 15:58:25.0</td>\n",
       "      <td>29.95</td>\n",
       "      <td>S</td>\n",
       "      <td>68.99</td>\n",
       "      <td>W</td>\n",
       "      <td>4.8</td>\n",
       "      <td>SAN JUAN, ARGENTINA</td>\n",
       "    </tr>\n",
       "    <tr>\n",
       "      <th>2</th>\n",
       "      <td>2021-11-22 15:48:11.6</td>\n",
       "      <td>2.78</td>\n",
       "      <td>S</td>\n",
       "      <td>126.64</td>\n",
       "      <td>E</td>\n",
       "      <td>4.5</td>\n",
       "      <td>CERAM SEA, INDONESIA</td>\n",
       "    </tr>\n",
       "    <tr>\n",
       "      <th>3</th>\n",
       "      <td>2021-11-22 15:44:13.2</td>\n",
       "      <td>14.95</td>\n",
       "      <td>S</td>\n",
       "      <td>177.76</td>\n",
       "      <td>W</td>\n",
       "      <td>4.5</td>\n",
       "      <td>FIJI REGION</td>\n",
       "    </tr>\n",
       "    <tr>\n",
       "      <th>4</th>\n",
       "      <td>2021-11-22 15:40:49.2</td>\n",
       "      <td>35.59</td>\n",
       "      <td>N</td>\n",
       "      <td>117.60</td>\n",
       "      <td>W</td>\n",
       "      <td>2.2</td>\n",
       "      <td>SOUTHERN CALIFORNIA</td>\n",
       "    </tr>\n",
       "  </tbody>\n",
       "</table>\n",
       "</div>"
      ],
      "text/plain": [
       "     earthquake_datetime latitude_num latitude_let longitude_num  \\\n",
       "0  2021-11-22 16:07:04.0         0.56            S        123.50   \n",
       "1  2021-11-22 15:58:25.0        29.95            S         68.99   \n",
       "2  2021-11-22 15:48:11.6         2.78            S        126.64   \n",
       "3  2021-11-22 15:44:13.2        14.95            S        177.76   \n",
       "4  2021-11-22 15:40:49.2        35.59            N        117.60   \n",
       "\n",
       "  longitude_let magnitude           region_name  \n",
       "0             E       4.1   SULAWESI, INDONESIA  \n",
       "1             W       4.8   SAN JUAN, ARGENTINA  \n",
       "2             E       4.5  CERAM SEA, INDONESIA  \n",
       "3             W       4.5           FIJI REGION  \n",
       "4             W       2.2   SOUTHERN CALIFORNIA  "
      ]
     },
     "execution_count": 104,
     "metadata": {},
     "output_type": "execute_result"
    }
   ],
   "source": [
    "earthquakes.head()"
   ]
  },
  {
   "cell_type": "code",
   "execution_count": 105,
   "id": "0a1ed685-6765-438d-8a5e-ee47b0d1968b",
   "metadata": {},
   "outputs": [
    {
     "data": {
      "text/plain": [
       "509"
      ]
     },
     "execution_count": 105,
     "metadata": {},
     "output_type": "execute_result"
    }
   ],
   "source": [
    "len(earthquakes)"
   ]
  },
  {
   "cell_type": "markdown",
   "id": "58dfd07d-9f99-4ab3-83ff-532218b79d42",
   "metadata": {
    "tags": []
   },
   "source": [
    "<a id=\"languages\"></a>\n",
    "# 4 | Lab 2: Wiki Languages"
   ]
  },
  {
   "cell_type": "code",
   "execution_count": 108,
   "id": "55eb6086-38cb-4b99-b1cd-83c1e3c05a81",
   "metadata": {},
   "outputs": [
    {
     "name": "stdout",
     "output_type": "stream",
     "text": [
      "200\n"
     ]
    }
   ],
   "source": [
    "url = \"https://en.wikipedia.org/wiki/List_of_languages_by_number_of_native_speakers\"\n",
    "\n",
    "response = requests.get(url)\n",
    "print(response.status_code) # 200 status code means OK!\n",
    "\n",
    "#mw-content-text > div.mw-parser-output > table:nth-child(15)\n",
    "soup = BeautifulSoup(response.content, \"html.parser\")"
   ]
  },
  {
   "cell_type": "code",
   "execution_count": 194,
   "id": "6df5d732-9013-4e58-8d44-b492f62ceabb",
   "metadata": {},
   "outputs": [],
   "source": [
    "# get all rows from the html table\n",
    "all_rows = []\n",
    "for crouton in range(len(soup.select('table.wikitable.sortable > tbody > tr'))):\n",
    "    all_rows.append(soup.select('table.wikitable.sortable > tbody > tr')[crouton].get_text())"
   ]
  },
  {
   "cell_type": "code",
   "execution_count": 195,
   "id": "0fc3625b-d2a2-4f0d-959a-c8fe935dc05f",
   "metadata": {},
   "outputs": [],
   "source": [
    "# split up our rows of data into data fields\n",
    "data = []\n",
    "i = 0\n",
    "for row in all_rows[1:92]:\n",
    "    data.append(row.split(\"\\n\\n\"))"
   ]
  },
  {
   "cell_type": "code",
   "execution_count": 196,
   "id": "7d49d0e7-5ba8-4b89-95a6-e23bc3e63878",
   "metadata": {},
   "outputs": [],
   "source": [
    "# create dataframe\n",
    "data = pd.DataFrame(data)\n",
    "data.columns = ['rank','language','speakers_in_millions','percentage_of_world_pop','language_family','branch']"
   ]
  },
  {
   "cell_type": "code",
   "execution_count": 197,
   "id": "73f230e3-80b6-4711-9487-7eaa49a70c0d",
   "metadata": {},
   "outputs": [],
   "source": [
    "# remove \\n from data\n",
    "data['rank'] = list(map(lambda x:x.replace('\\n',''),data['rank']))\n",
    "data['branch'] = list(map(lambda x:x.replace('\\n',''),data['branch']))"
   ]
  },
  {
   "cell_type": "code",
   "execution_count": 198,
   "id": "219f6cf3-5f13-4c43-9caf-9d930dddf38d",
   "metadata": {},
   "outputs": [],
   "source": [
    "# convert rank to numeric\n",
    "data['rank'] = pd.to_numeric(data['rank'])"
   ]
  },
  {
   "cell_type": "code",
   "execution_count": 199,
   "id": "690b43c3-4f67-4e58-a3e2-f811bc0080f8",
   "metadata": {},
   "outputs": [],
   "source": [
    "# filter top 10\n",
    "data = data[data['rank'] <= 10]"
   ]
  },
  {
   "cell_type": "code",
   "execution_count": 200,
   "id": "aae789ef-fff5-487d-b300-739b86befd15",
   "metadata": {},
   "outputs": [
    {
     "data": {
      "text/html": [
       "<div>\n",
       "<style scoped>\n",
       "    .dataframe tbody tr th:only-of-type {\n",
       "        vertical-align: middle;\n",
       "    }\n",
       "\n",
       "    .dataframe tbody tr th {\n",
       "        vertical-align: top;\n",
       "    }\n",
       "\n",
       "    .dataframe thead th {\n",
       "        text-align: right;\n",
       "    }\n",
       "</style>\n",
       "<table border=\"1\" class=\"dataframe\">\n",
       "  <thead>\n",
       "    <tr style=\"text-align: right;\">\n",
       "      <th></th>\n",
       "      <th>rank</th>\n",
       "      <th>language</th>\n",
       "      <th>speakers_in_millions</th>\n",
       "      <th>percentage_of_world_pop</th>\n",
       "      <th>language_family</th>\n",
       "      <th>branch</th>\n",
       "    </tr>\n",
       "  </thead>\n",
       "  <tbody>\n",
       "    <tr>\n",
       "      <th>0</th>\n",
       "      <td>1</td>\n",
       "      <td>Mandarin Chinese</td>\n",
       "      <td>918</td>\n",
       "      <td>11.922%</td>\n",
       "      <td>Sino-Tibetan</td>\n",
       "      <td>Sinitic</td>\n",
       "    </tr>\n",
       "    <tr>\n",
       "      <th>1</th>\n",
       "      <td>2</td>\n",
       "      <td>Spanish</td>\n",
       "      <td>480</td>\n",
       "      <td>5.994%</td>\n",
       "      <td>Indo-European</td>\n",
       "      <td>Romance</td>\n",
       "    </tr>\n",
       "    <tr>\n",
       "      <th>2</th>\n",
       "      <td>3</td>\n",
       "      <td>English</td>\n",
       "      <td>379</td>\n",
       "      <td>4.922%</td>\n",
       "      <td>Indo-European</td>\n",
       "      <td>Germanic</td>\n",
       "    </tr>\n",
       "    <tr>\n",
       "      <th>3</th>\n",
       "      <td>4</td>\n",
       "      <td>Hindi (sanskritised Hindustani)[9]</td>\n",
       "      <td>341</td>\n",
       "      <td>4.429%</td>\n",
       "      <td>Indo-European</td>\n",
       "      <td>Indo-Aryan</td>\n",
       "    </tr>\n",
       "    <tr>\n",
       "      <th>4</th>\n",
       "      <td>5</td>\n",
       "      <td>Bengali</td>\n",
       "      <td>300</td>\n",
       "      <td>4.000%</td>\n",
       "      <td>Indo-European</td>\n",
       "      <td>Indo-Aryan</td>\n",
       "    </tr>\n",
       "    <tr>\n",
       "      <th>5</th>\n",
       "      <td>6</td>\n",
       "      <td>Portuguese</td>\n",
       "      <td>221</td>\n",
       "      <td>2.870%</td>\n",
       "      <td>Indo-European</td>\n",
       "      <td>Romance</td>\n",
       "    </tr>\n",
       "    <tr>\n",
       "      <th>6</th>\n",
       "      <td>7</td>\n",
       "      <td>Russian</td>\n",
       "      <td>154</td>\n",
       "      <td>2.000%</td>\n",
       "      <td>Indo-European</td>\n",
       "      <td>Balto-Slavic</td>\n",
       "    </tr>\n",
       "    <tr>\n",
       "      <th>7</th>\n",
       "      <td>8</td>\n",
       "      <td>Japanese</td>\n",
       "      <td>128</td>\n",
       "      <td>1.662%</td>\n",
       "      <td>Japonic</td>\n",
       "      <td>Japanese</td>\n",
       "    </tr>\n",
       "    <tr>\n",
       "      <th>8</th>\n",
       "      <td>9</td>\n",
       "      <td>Western Punjabi[10]</td>\n",
       "      <td>92.7</td>\n",
       "      <td>1.204%</td>\n",
       "      <td>Indo-European</td>\n",
       "      <td>Indo-Aryan</td>\n",
       "    </tr>\n",
       "    <tr>\n",
       "      <th>9</th>\n",
       "      <td>10</td>\n",
       "      <td>Marathi</td>\n",
       "      <td>83.1</td>\n",
       "      <td>1.079%</td>\n",
       "      <td>Indo-European</td>\n",
       "      <td>Indo-Aryan</td>\n",
       "    </tr>\n",
       "  </tbody>\n",
       "</table>\n",
       "</div>"
      ],
      "text/plain": [
       "   rank                            language speakers_in_millions  \\\n",
       "0     1                    Mandarin Chinese                  918   \n",
       "1     2                             Spanish                  480   \n",
       "2     3                             English                  379   \n",
       "3     4  Hindi (sanskritised Hindustani)[9]                  341   \n",
       "4     5                             Bengali                  300   \n",
       "5     6                          Portuguese                  221   \n",
       "6     7                             Russian                  154   \n",
       "7     8                            Japanese                  128   \n",
       "8     9                 Western Punjabi[10]                 92.7   \n",
       "9    10                             Marathi                 83.1   \n",
       "\n",
       "  percentage_of_world_pop language_family        branch  \n",
       "0                 11.922%    Sino-Tibetan       Sinitic  \n",
       "1                  5.994%   Indo-European       Romance  \n",
       "2                  4.922%   Indo-European      Germanic  \n",
       "3                  4.429%   Indo-European    Indo-Aryan  \n",
       "4                  4.000%   Indo-European    Indo-Aryan  \n",
       "5                  2.870%   Indo-European       Romance  \n",
       "6                  2.000%   Indo-European  Balto-Slavic  \n",
       "7                  1.662%         Japonic      Japanese  \n",
       "8                  1.204%   Indo-European    Indo-Aryan  \n",
       "9                  1.079%   Indo-European    Indo-Aryan  "
      ]
     },
     "execution_count": 200,
     "metadata": {},
     "output_type": "execute_result"
    }
   ],
   "source": [
    "data"
   ]
  }
 ],
 "metadata": {
  "kernelspec": {
   "display_name": "Python 3 (ipykernel)",
   "language": "python",
   "name": "python3"
  },
  "language_info": {
   "codemirror_mode": {
    "name": "ipython",
    "version": 3
   },
   "file_extension": ".py",
   "mimetype": "text/x-python",
   "name": "python",
   "nbconvert_exporter": "python",
   "pygments_lexer": "ipython3",
   "version": "3.9.6"
  }
 },
 "nbformat": 4,
 "nbformat_minor": 5
}
